{
 "cells": [
  {
   "cell_type": "markdown",
   "metadata": {},
   "source": [
    "ResNet50 model "
   ]
  },
  {
   "cell_type": "code",
   "execution_count": 6,
   "metadata": {},
   "outputs": [],
   "source": [
    "import torch\n",
    "import torchvision\n",
    "import torchvision.transforms as transforms\n",
    "import torch.nn as nn\n",
    "import torch.nn.functional as F\n",
    "import torch.optim as optim\n",
    "import tqdm as notebook_tqdm\n",
    "from datetime import datetime\n",
    "import numpy as np \n",
    "import pandas as pd\n",
    "\n",
    "from PIL import Image\n",
    "import json\n",
    "import requests\n",
    "import matplotlib.pyplot as plt\n",
    "import warnings\n",
    "warnings.filterwarnings('ignore')\n",
    "%matplotlib inline\n",
    "\n",
    "from tqdm import tqdm\n",
    "from PIL import Image\n",
    "import torch\n",
    "import torchvision\n",
    "from torchvision.models.resnet import resnet50\n",
    "\n",
    "device = torch.device('cuda' if torch.cuda.is_available() else 'cpu')\n"
   ]
  },
  {
   "cell_type": "code",
   "execution_count": 7,
   "metadata": {},
   "outputs": [],
   "source": [
    "import matplotlib.pyplot as plt\n",
    "import torch \n",
    "import torch.nn as nn \n",
    "import torch.nn.functional as F\n",
    "from torch.nn import CrossEntropyLoss\n",
    "from torch.optim import SGD\n",
    "from torch.utils.data import DataLoader\n",
    "import torchvision \n",
    "import torchvision.transforms as transforms \n",
    "from torchvision.transforms import ToTensor\n",
    "from torchvision import datasets \n",
    "from datetime import datetime"
   ]
  },
  {
   "cell_type": "code",
   "execution_count": 8,
   "metadata": {},
   "outputs": [],
   "source": [
    "transforms = transforms.Compose([\n",
    "    transforms.Resize((32, 32)),\n",
    "    transforms.ToTensor(),\n",
    "    transforms.Normalize((0.3403, 0.3121, 0.3214),\n",
    "                         (0.2724, 0.2608, 0.2669)),\n",
    "    transforms.ElasticTransform(alpha = 1.0)          # to re-create rainy weather conditions \n",
    "]) "
   ]
  },
  {
   "cell_type": "code",
   "execution_count": 9,
   "metadata": {},
   "outputs": [],
   "source": [
    "# defining hyperparameters \n",
    "epochs = 31   #the nn will train 31 times over all 50.000 images and validate itself with 12.000 images x 31  times) \n",
    "learning_rate = 0.0001 #how much the weight will be updated each time \n",
    "batch_size = 64 \n",
    "classes = 43 \n",
    "img_size = 32\n",
    "random_seed = 42"
   ]
  },
  {
   "cell_type": "code",
   "execution_count": 10,
   "metadata": {},
   "outputs": [
    {
     "name": "stdout",
     "output_type": "stream",
     "text": [
      "(<torch.utils.data.dataloader.DataLoader object at 0x7f421cd14f70>, <torch.utils.data.dataloader.DataLoader object at 0x7f416d8760a0>)\n"
     ]
    }
   ],
   "source": [
    "def get_train_valid_loader(\n",
    "                           batch_size,\n",
    "                           augment,\n",
    "                           random_seed,\n",
    "                           valid_size=0.1,\n",
    "                           shuffle=True,\n",
    "                           num_workers=2):\n",
    "\n",
    "    error_msg = \"[!] valid_size should be in the range [0, 1].\"\n",
    "    assert ((valid_size >= 0) and (valid_size <= 1)), error_msg\n",
    "\n",
    "\n",
    "    # load the dataset\n",
    "\n",
    "    base_dataset = datasets.ImageFolder(\n",
    "        root='/volumes1/thesis/notebooks/data/gtsrb/GTSRB/Training', transform=transforms,\n",
    "    )\n",
    "\n",
    "    # TODO\n",
    "    split_datasets = torch.utils.data.random_split(base_dataset, [0.20,0.8])\n",
    "    global val_dataset \n",
    "    val_dataset = split_datasets[0]\n",
    "    train_dataset = split_datasets[1]\n",
    "    \n",
    "\n",
    "    global num_train \n",
    "    num_train= len(train_dataset)\n",
    "    indices = list(range(num_train))\n",
    "    global split \n",
    "    split = int(np.floor(valid_size * num_train))\n",
    "\n",
    "    if shuffle:\n",
    "        np.random.seed(random_seed)\n",
    "        np.random.shuffle(indices)\n",
    "\n",
    "\n",
    "    #train_idx, valid_idx = indices[split:], indices[:split]\n",
    "    #train_sampler = SubsetRandomSampler(train_idx)\n",
    "    #valid_sampler = SubsetRandomSampler(valid_idx)\n",
    "\n",
    "\n",
    "    global train_loader \n",
    "    train_loader = torch.utils.data.DataLoader(\n",
    "        train_dataset, batch_size=batch_size,\n",
    "        num_workers=num_workers, \n",
    "        #sampler = train_sampler\n",
    "    )\n",
    "    global valid_loader \n",
    "    valid_loader = torch.utils.data.DataLoader(\n",
    "        val_dataset, batch_size=batch_size,\n",
    "        num_workers=num_workers, \n",
    "        #sampler = valid_sampler\n",
    "    )\n",
    "\n",
    "    return train_loader, valid_loader\n",
    "\n",
    "print(get_train_valid_loader(batch_size = 64, augment = True, random_seed = 1))\n"
   ]
  },
  {
   "cell_type": "code",
   "execution_count": 11,
   "metadata": {},
   "outputs": [],
   "source": [
    "classes = [ '0:Speed limit (20km/h)',\n",
    "            '1:Speed limit (30km/h)', \n",
    "            '2:Speed limit (50km/h)', \n",
    "            '3:Speed limit (60km/h)', \n",
    "            '4:Speed limit (70km/h)', \n",
    "            '5:Speed limit (80km/h)', \n",
    "            '6:End of speed limit (80km/h)', \n",
    "            '7:Speed limit (100km/h)', \n",
    "            '8:Speed limit (120km/h)', \n",
    "            '9:No passing', \n",
    "            '10:No passing veh over 3.5 tons', \n",
    "            '11:Right-of-way at intersection', \n",
    "            '12:Priority road', \n",
    "            '13:Yield', \n",
    "            '14:Stop', \n",
    "            '15:No vehicles', \n",
    "            '16:Veh > 3.5 tons prohibited', \n",
    "            '17:No entry', \n",
    "            '18:General caution', \n",
    "            '19:Dangerous curve left', \n",
    "            '20:Dangerous curve right', \n",
    "            '21:Double curve', \n",
    "            '22:Bumpy road', \n",
    "            '23:Slippery road', \n",
    "            '24:Road narrows on the right', \n",
    "            '25:Road work', \n",
    "            '26:Traffic signals', \n",
    "            '27:Pedestrians', \n",
    "            '28:Children crossing', \n",
    "            '29:Bicycles crossing', \n",
    "            '30:Beware of ice/snow',\n",
    "            '31:Wild animals crossing', \n",
    "            '32:End speed + passing limits', \n",
    "            '33:Turn right ahead', \n",
    "            '34:Turn left ahead', \n",
    "            '35:Ahead only', \n",
    "            '36:Go straight or right', \n",
    "            '37:Go straight or left', \n",
    "            '38:Keep right', \n",
    "            '39:Keep left', \n",
    "            '40:Roundabout mandatory', \n",
    "            '41:End of no passing', \n",
    "            '42:End no passing veh > 3.5 tons' ]"
   ]
  },
  {
   "cell_type": "code",
   "execution_count": 5,
   "metadata": {},
   "outputs": [],
   "source": [
    "def get_accuracy(model, data_loader, device):\n",
    "    '''\n",
    "    Function for computing the accuracy of the predictions over the entire data_loader\n",
    "    '''\n",
    "    \n",
    "    correct_pred = 0 \n",
    "    n = 0\n",
    "    \n",
    "    with torch.no_grad():\n",
    "        model.eval()\n",
    "        for X, y_true in data_loader:\n",
    "\n",
    "            X = X.to(device)\n",
    "            y_true = y_true.to(device)\n",
    "\n",
    "            y_prob = model(X)\n",
    "            _, predicted_labels = torch.max(y_prob, 1)\n",
    "\n",
    "            n += y_true.size(0)\n",
    "            correct_pred += (predicted_labels == y_true).sum()\n",
    "\n",
    "    return correct_pred.float() / n"
   ]
  },
  {
   "cell_type": "code",
   "execution_count": 6,
   "metadata": {},
   "outputs": [],
   "source": [
    "def plot_losses(train_losses, valid_losses):\n",
    "    '''\n",
    "    Function for plotting training and validation losses\n",
    "    '''\n",
    "    \n",
    "    # temporarily change the style of the plots to seaborn \n",
    "    #plt.style.use('seaborn')\n",
    "\n",
    "    train_losses = np.array(train_losses) \n",
    "    valid_losses = np.array(valid_losses)\n",
    "\n",
    "    fig, ax = plt.subplots(figsize = (8, 4.5))\n",
    "\n",
    "    ax.plot(train_losses, color='blue', label='Training loss') \n",
    "    ax.plot(valid_losses, color='red', label='Validation loss')\n",
    "    ax.set(title=\"Loss over epochs\", \n",
    "            xlabel='Epoch',\n",
    "            ylabel='Loss') \n",
    "    ax.legend()\n",
    "    fig.show()\n",
    "    \n",
    "    # change the plot style to default\n",
    "    plt.style.use('default')"
   ]
  },
  {
   "cell_type": "code",
   "execution_count": 7,
   "metadata": {},
   "outputs": [],
   "source": [
    "# train function\n",
    "\n",
    "def train(train_loader, model, criterion, optimizer, device):\n",
    "    '''\n",
    "    Function for the training step of the training loop\n",
    "    '''\n",
    "\n",
    "    model.train()\n",
    "    running_loss = 0\n",
    "    \n",
    "    for X, y_true in train_loader:\n",
    "\n",
    "        optimizer.zero_grad()\n",
    "        \n",
    "        X = X.to(device)\n",
    "        y_true = y_true.to(device)\n",
    "    \n",
    "        # Forward pass\n",
    "        y_hat= model(X) \n",
    "        loss = criterion(y_hat, y_true) \n",
    "        running_loss += loss.item() * X.size(0)\n",
    "\n",
    "        # Backward pass\n",
    "        loss.backward()\n",
    "        optimizer.step()\n",
    "        \n",
    "    epoch_loss = running_loss / len(train_loader.dataset)\n",
    "    return model, optimizer, epoch_loss"
   ]
  },
  {
   "cell_type": "code",
   "execution_count": 8,
   "metadata": {},
   "outputs": [],
   "source": [
    "# validation function, without a learning step (backward pass)\n",
    "\n",
    "def validate(valid_loader, model, criterion, device):\n",
    "    '''\n",
    "    Function for the validation step of the training loop\n",
    "    '''\n",
    "   \n",
    "    model.eval()\n",
    "    running_loss = 0\n",
    "    \n",
    "    for X, y_true in valid_loader:\n",
    "    \n",
    "        X = X.to(device)\n",
    "        y_true = y_true.to(device)\n",
    "\n",
    "        # Forward pass and record loss\n",
    "        y_hat= model(X) \n",
    "        loss = criterion(y_hat, y_true) \n",
    "        running_loss += loss.item() * X.size(0)\n",
    "\n",
    "    epoch_loss = running_loss / len(valid_loader.dataset)\n",
    "        \n",
    "    return model, epoch_loss"
   ]
  },
  {
   "cell_type": "code",
   "execution_count": 9,
   "metadata": {},
   "outputs": [],
   "source": [
    "# training function\n",
    "\n",
    "def training_loop(model, criterion, optimizer, train_loader, valid_loader, epochs, device, print_every=1):\n",
    "    '''\n",
    "    Function defining the entire training loop\n",
    "    '''\n",
    "    \n",
    "    # set objects for storing metrics\n",
    "    best_loss = 1e10\n",
    "    train_losses = []\n",
    "    valid_losses = []\n",
    " \n",
    "    # Train model\n",
    "    for epoch in range(0, epochs):\n",
    "\n",
    "        # training\n",
    "        model, optimizer, train_loss = train(train_loader, model, criterion, optimizer, device)\n",
    "        train_losses.append(train_loss)\n",
    "\n",
    "        # validation\n",
    "        with torch.no_grad():\n",
    "            model, valid_loss = validate(valid_loader, model, criterion, device)\n",
    "            valid_losses.append(valid_loss)\n",
    "\n",
    "        if epoch % print_every == (print_every - 1):\n",
    "            \n",
    "            train_acc = get_accuracy(model, train_loader, device=device)\n",
    "            valid_acc = get_accuracy(model, valid_loader, device=device)\n",
    "                \n",
    "            print(f'{datetime.now().time().replace(microsecond=0)} --- '\n",
    "                  f'Epoch: {epoch}\\t'\n",
    "                  f'Train loss: {train_loss:.4f}\\t'\n",
    "                  f'Valid loss: {valid_loss:.4f}\\t'\n",
    "                  f'Train accuracy: {100 * train_acc:.2f}\\t'\n",
    "                  f'Valid accuracy: {100 * valid_acc:.2f}')\n",
    "\n",
    "    plot_losses(train_losses, valid_losses)\n",
    "    \n",
    "    return model, optimizer, (train_losses, valid_losses)"
   ]
  },
  {
   "cell_type": "code",
   "execution_count": 10,
   "metadata": {},
   "outputs": [],
   "source": [
    "model = resnet50(pretrained=False)\n",
    "model.fc = torch.nn.Linear(2048,43)\n",
    "model.conv1 = torch.nn.Conv2d(3,64,kernel_size=5,stride=1)\n",
    "\n",
    "model = model.to(device)\n",
    "\n"
   ]
  },
  {
   "cell_type": "code",
   "execution_count": 11,
   "metadata": {},
   "outputs": [],
   "source": [
    "\n",
    "torch.manual_seed(random_seed)\n",
    "optimizer = torch.optim.Adam(model.parameters(), lr=learning_rate)\n",
    "criterion = nn.CrossEntropyLoss()"
   ]
  },
  {
   "cell_type": "code",
   "execution_count": 12,
   "metadata": {},
   "outputs": [
    {
     "name": "stdout",
     "output_type": "stream",
     "text": [
      "17:05:18 --- Epoch: 0\tTrain loss: 2.3376\tValid loss: 1.7650\tTrain accuracy: 67.06\tValid accuracy: 47.14\n",
      "17:06:37 --- Epoch: 1\tTrain loss: 0.6864\tValid loss: 1.1701\tTrain accuracy: 94.31\tValid accuracy: 65.91\n",
      "17:07:57 --- Epoch: 2\tTrain loss: 0.2327\tValid loss: 1.0382\tTrain accuracy: 98.01\tValid accuracy: 72.15\n",
      "17:09:16 --- Epoch: 3\tTrain loss: 0.1236\tValid loss: 1.0040\tTrain accuracy: 98.60\tValid accuracy: 73.81\n",
      "17:10:35 --- Epoch: 4\tTrain loss: 0.0863\tValid loss: 1.0756\tTrain accuracy: 98.39\tValid accuracy: 72.91\n",
      "17:11:54 --- Epoch: 5\tTrain loss: 0.0642\tValid loss: 0.8473\tTrain accuracy: 99.31\tValid accuracy: 78.30\n",
      "17:13:12 --- Epoch: 6\tTrain loss: 0.0574\tValid loss: 1.0929\tTrain accuracy: 98.52\tValid accuracy: 75.54\n",
      "17:14:31 --- Epoch: 7\tTrain loss: 0.0617\tValid loss: 0.9088\tTrain accuracy: 99.50\tValid accuracy: 79.34\n",
      "17:15:50 --- Epoch: 8\tTrain loss: 0.0382\tValid loss: 0.8677\tTrain accuracy: 99.11\tValid accuracy: 80.59\n",
      "17:17:09 --- Epoch: 9\tTrain loss: 0.0553\tValid loss: 0.8121\tTrain accuracy: 99.26\tValid accuracy: 81.09\n",
      "17:18:28 --- Epoch: 10\tTrain loss: 0.0399\tValid loss: 0.8535\tTrain accuracy: 99.65\tValid accuracy: 81.84\n",
      "17:19:47 --- Epoch: 11\tTrain loss: 0.0320\tValid loss: 0.8526\tTrain accuracy: 99.25\tValid accuracy: 82.31\n",
      "17:21:05 --- Epoch: 12\tTrain loss: 0.0389\tValid loss: 0.7760\tTrain accuracy: 99.29\tValid accuracy: 82.95\n",
      "17:22:24 --- Epoch: 13\tTrain loss: 0.0395\tValid loss: 0.7398\tTrain accuracy: 99.45\tValid accuracy: 84.29\n",
      "17:23:43 --- Epoch: 14\tTrain loss: 0.0380\tValid loss: 0.6999\tTrain accuracy: 99.50\tValid accuracy: 85.12\n",
      "17:25:02 --- Epoch: 15\tTrain loss: 0.0208\tValid loss: 0.8691\tTrain accuracy: 99.54\tValid accuracy: 83.34\n",
      "17:26:21 --- Epoch: 16\tTrain loss: 0.0296\tValid loss: 0.6967\tTrain accuracy: 99.80\tValid accuracy: 85.36\n",
      "17:27:40 --- Epoch: 17\tTrain loss: 0.0245\tValid loss: 0.6610\tTrain accuracy: 99.86\tValid accuracy: 86.46\n",
      "17:29:00 --- Epoch: 18\tTrain loss: 0.0168\tValid loss: 0.6527\tTrain accuracy: 99.87\tValid accuracy: 87.01\n",
      "17:30:19 --- Epoch: 19\tTrain loss: 0.0200\tValid loss: 0.6490\tTrain accuracy: 99.64\tValid accuracy: 85.86\n"
     ]
    },
    {
     "data": {
      "image/png": "[encoded data removed]",
      "text/plain": [
       "<Figure size 800x450 with 1 Axes>"
      ]
     },
     "metadata": {},
     "output_type": "display_data"
    }
   ],
   "source": [
    "model, optimizer, _ = training_loop(model, criterion, optimizer, train_loader, valid_loader, epochs, device)"
   ]
  },
  {
   "cell_type": "code",
   "execution_count": null,
   "metadata": {},
   "outputs": [],
   "source": [
    "from torchvision.models.resnet import resnet18\n"
   ]
  },
  {
   "cell_type": "code",
   "execution_count": null,
   "metadata": {},
   "outputs": [],
   "source": [
    "model = resnet18(pretrained=False)\n",
    "#model.fc = torch.nn.Linear(2048,43)\n",
    "model.conv1 = torch.nn.Conv2d(3,64,kernel_size=5,stride=1)\n",
    "\n",
    "model = model.to(device)\n",
    "model"
   ]
  },
  {
   "cell_type": "code",
   "execution_count": null,
   "metadata": {},
   "outputs": [],
   "source": [
    "model, optimizer, _ = training_loop(model, criterion, optimizer, train_loader, valid_loader, epochs, device)"
   ]
  },
  {
   "cell_type": "code",
   "execution_count": null,
   "metadata": {},
   "outputs": [],
   "source": [
    "model.conv1 = torch.nn.Conv2d(3,64,kernel_size=5,stride=1)"
   ]
  },
  {
   "cell_type": "code",
   "execution_count": null,
   "metadata": {},
   "outputs": [],
   "source": [
    "model"
   ]
  },
  {
   "cell_type": "code",
   "execution_count": null,
   "metadata": {},
   "outputs": [],
   "source": [
    "x, y = train_dataset[0]"
   ]
  },
  {
   "cell_type": "code",
   "execution_count": null,
   "metadata": {},
   "outputs": [],
   "source": [
    "model(torch.unsqueeze(x, dim=0))"
   ]
  },
  {
   "cell_type": "code",
   "execution_count": null,
   "metadata": {},
   "outputs": [],
   "source": []
  }
 ],
 "metadata": {
  "kernelspec": {
   "display_name": "Python 3.8.10 ('notebook_env': venv)",
   "language": "python",
   "name": "python3"
  },
  "language_info": {
   "codemirror_mode": {
    "name": "ipython",
    "version": 3
   },
   "file_extension": ".py",
   "mimetype": "text/x-python",
   "name": "python",
   "nbconvert_exporter": "python",
   "pygments_lexer": "ipython3",
   "version": "3.8.10"
  },
  "orig_nbformat": 4,
  "vscode": {
   "interpreter": {
    "hash": "1e104bd40b3717451915a48eb0e1578acd631c83a179c8bd7a28647fdfca76f1"
   }
  }
 },
 "nbformat": 4,
 "nbformat_minor": 2
}
