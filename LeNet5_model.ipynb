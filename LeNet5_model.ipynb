{
 "cells": [
  {
   "cell_type": "markdown",
   "metadata": {},
   "source": [
    "LeNet5 model "
   ]
  },
  {
   "cell_type": "code",
   "execution_count": 2,
   "metadata": {},
   "outputs": [
    {
     "name": "stderr",
     "output_type": "stream",
     "text": [
      "/volumes1/thesis/notebooks/notebook_env/lib/python3.8/site-packages/tqdm/auto.py:22: TqdmWarning: IProgress not found. Please update jupyter and ipywidgets. See https://ipywidgets.readthedocs.io/en/stable/user_install.html\n",
      "  from .autonotebook import tqdm as notebook_tqdm\n"
     ]
    }
   ],
   "source": [
    "import pandas as pd \n",
    "import numpy as np \n",
    "\n",
    "\n",
    "\n",
    "import matplotlib.pyplot as plt\n",
    "import torch \n",
    "import torch.nn as nn \n",
    "import torch.nn.functional as F\n",
    "from torch.nn import CrossEntropyLoss\n",
    "from torch.optim import SGD\n",
    "from torch.utils.data import DataLoader\n",
    "import torchvision \n",
    "import torchvision.transforms as transforms \n",
    "from torchvision.transforms import ToTensor\n",
    "from torchvision import datasets \n",
    "from datetime import datetime\n",
    "\n",
    "device = torch.device('cuda' if torch.cuda.is_available() else 'cpu')"
   ]
  },
  {
   "cell_type": "code",
   "execution_count": 3,
   "metadata": {},
   "outputs": [],
   "source": [
    "# defining hyperparameters \n",
    "epochs = 40   #the nn will train 40 times over all 50.000 images and validate itself with 12.000 images x 40 times) \n",
    "learning_rate = 0.0001 #how much the weight will be updated each time \n",
    "batch_size = 64 \n",
    "classes = 43 \n",
    "img_size = 32\n",
    "random_seed = 42"
   ]
  },
  {
   "cell_type": "code",
   "execution_count": 4,
   "metadata": {},
   "outputs": [],
   "source": [
    "def get_accuracy(model, data_loader, device):\n",
    "    '''\n",
    "    Function for computing the accuracy of the predictions over the entire data_loader\n",
    "    '''\n",
    "    \n",
    "    correct_pred = 0 \n",
    "    n = 0\n",
    "    \n",
    "    with torch.no_grad():\n",
    "        model.eval()\n",
    "        for X, y_true in data_loader:\n",
    "\n",
    "            X = X.to(device)\n",
    "            y_true = y_true.to(device)\n",
    "\n",
    "            _, y_prob = model(X)\n",
    "            _, predicted_labels = torch.max(y_prob, 1)\n",
    "\n",
    "            n += y_true.size(0)\n",
    "            correct_pred += (predicted_labels == y_true).sum()\n",
    "\n",
    "    return correct_pred.float() / n"
   ]
  },
  {
   "cell_type": "code",
   "execution_count": 5,
   "metadata": {},
   "outputs": [],
   "source": [
    "def plot_losses(train_losses, valid_losses):\n",
    "    '''\n",
    "    Function for plotting training and validation losses\n",
    "    '''\n",
    "    \n",
    "    # temporarily change the style of the plots to seaborn \n",
    "    #plt.style.use('seaborn')\n",
    "\n",
    "    train_losses = np.array(train_losses) \n",
    "    valid_losses = np.array(valid_losses)\n",
    "\n",
    "    fig, ax = plt.subplots(figsize = (8, 4.5))\n",
    "\n",
    "    ax.plot(train_losses, color='blue', label='Training loss') \n",
    "    ax.plot(valid_losses, color='red', label='Validation loss')\n",
    "    ax.set(title=\"Loss over epochs\", \n",
    "            xlabel='Epoch',\n",
    "            ylabel='Loss') \n",
    "    ax.legend()\n",
    "    fig.show()\n",
    "    \n",
    "    # change the plot style to default\n",
    "    plt.style.use('default')"
   ]
  },
  {
   "cell_type": "code",
   "execution_count": 6,
   "metadata": {},
   "outputs": [],
   "source": [
    "# train function\n",
    "\n",
    "def train(train_loader, model, criterion, optimizer, device):\n",
    "    '''\n",
    "    Function for the training step of the training loop\n",
    "    '''\n",
    "\n",
    "    model.train()\n",
    "    running_loss = 0\n",
    "    \n",
    "    for X, y_true in train_loader:\n",
    "\n",
    "        optimizer.zero_grad()\n",
    "        \n",
    "        X = X.to(device)\n",
    "        y_true = y_true.to(device)\n",
    "    \n",
    "        # Forward pass\n",
    "        y_hat, _ = model(X) \n",
    "        loss = criterion(y_hat, y_true) \n",
    "        running_loss += loss.item() * X.size(0)\n",
    "\n",
    "        # Backward pass\n",
    "        loss.backward()\n",
    "        optimizer.step()\n",
    "        \n",
    "    epoch_loss = running_loss / len(train_loader.dataset)\n",
    "    return model, optimizer, epoch_loss"
   ]
  },
  {
   "cell_type": "code",
   "execution_count": 7,
   "metadata": {},
   "outputs": [],
   "source": [
    "# validation function, without a learning step (backward pass)\n",
    "\n",
    "def validate(valid_loader, model, criterion, device):\n",
    "    '''\n",
    "    Function for the validation step of the training loop\n",
    "    '''\n",
    "   \n",
    "    model.eval()\n",
    "    running_loss = 0\n",
    "    \n",
    "    for X, y_true in valid_loader:\n",
    "    \n",
    "        X = X.to(device)\n",
    "        y_true = y_true.to(device)\n",
    "\n",
    "        # Forward pass and record loss\n",
    "        y_hat, _ = model(X) \n",
    "        loss = criterion(y_hat, y_true) \n",
    "        running_loss += loss.item() * X.size(0)\n",
    "\n",
    "    epoch_loss = running_loss / len(valid_loader.dataset)\n",
    "        \n",
    "    return model, epoch_loss"
   ]
  },
  {
   "cell_type": "code",
   "execution_count": 8,
   "metadata": {},
   "outputs": [],
   "source": [
    "# training function\n",
    "\n",
    "def training_loop(model, criterion, optimizer, train_loader, valid_loader, epochs, device, print_every=1):\n",
    "    '''\n",
    "    Function defining the entire training loop\n",
    "    '''\n",
    "    \n",
    "    # set objects for storing metrics\n",
    "    best_loss = 1e10\n",
    "    train_losses = []\n",
    "    valid_losses = []\n",
    " \n",
    "    # Train model\n",
    "    for epoch in range(0, epochs):\n",
    "\n",
    "        # training\n",
    "        model, optimizer, train_loss = train(train_loader, model, criterion, optimizer, device)\n",
    "        train_losses.append(train_loss)\n",
    "\n",
    "        # validation\n",
    "        with torch.no_grad():\n",
    "            model, valid_loss = validate(valid_loader, model, criterion, device)\n",
    "            valid_losses.append(valid_loss)\n",
    "\n",
    "        if epoch % print_every == (print_every - 1):\n",
    "            \n",
    "            train_acc = get_accuracy(model, train_loader, device=device)\n",
    "            valid_acc = get_accuracy(model, valid_loader, device=device)\n",
    "                \n",
    "            print(f'{datetime.now().time().replace(microsecond=0)} --- '\n",
    "                  f'Epoch: {epoch}\\t'\n",
    "                  f'Train loss: {train_loss:.4f}\\t'\n",
    "                  f'Valid loss: {valid_loss:.4f}\\t'\n",
    "                  f'Train accuracy: {100 * train_acc:.2f}\\t'\n",
    "                  f'Valid accuracy: {100 * valid_acc:.2f}')\n",
    "\n",
    "    plot_losses(train_losses, valid_losses)\n",
    "    \n",
    "    return model, optimizer, (train_losses, valid_losses)"
   ]
  },
  {
   "cell_type": "code",
   "execution_count": 9,
   "metadata": {},
   "outputs": [],
   "source": [
    "# transformer \n",
    "transforms = transforms.Compose([\n",
    "    transforms.Resize((32, 32)),\n",
    "    transforms.ToTensor(),\n",
    "    transforms.Normalize((0.3403, 0.3121, 0.3214),\n",
    "                         (0.2724, 0.2608, 0.2669))\n",
    "])"
   ]
  },
  {
   "cell_type": "code",
   "execution_count": 10,
   "metadata": {},
   "outputs": [
    {
     "name": "stdout",
     "output_type": "stream",
     "text": [
      "(<torch.utils.data.dataloader.DataLoader object at 0x7faf209d1cd0>, <torch.utils.data.dataloader.DataLoader object at 0x7fae79120f70>)\n"
     ]
    }
   ],
   "source": [
    "def get_train_valid_loader(\n",
    "                           batch_size,\n",
    "                           augment,\n",
    "                           random_seed,\n",
    "                           valid_size=0.1,\n",
    "                           shuffle=True,\n",
    "                           num_workers=2):\n",
    "\n",
    "    error_msg = \"[!] valid_size should be in the range [0, 1].\"\n",
    "    assert ((valid_size >= 0) and (valid_size <= 1)), error_msg\n",
    "\n",
    "\n",
    "    # load the dataset\n",
    "\n",
    "    base_dataset = datasets.ImageFolder(\n",
    "        root='/volumes1/thesis/notebooks/data/gtsrb/GTSRB/Training', transform=transforms,\n",
    "    )\n",
    "\n",
    "    # TODO\n",
    "    split_datasets = torch.utils.data.random_split(base_dataset, [0.20,0.8])\n",
    "    global val_dataset \n",
    "    val_dataset = split_datasets[0]\n",
    "    train_dataset = split_datasets[1]\n",
    "    \n",
    "\n",
    "    global num_train \n",
    "    num_train= len(train_dataset)\n",
    "    indices = list(range(num_train))\n",
    "    global split \n",
    "    split = int(np.floor(valid_size * num_train))\n",
    "\n",
    "    if shuffle:\n",
    "        np.random.seed(random_seed)\n",
    "        np.random.shuffle(indices)\n",
    "\n",
    "\n",
    "    #train_idx, valid_idx = indices[split:], indices[:split]\n",
    "    #train_sampler = SubsetRandomSampler(train_idx)\n",
    "    #valid_sampler = SubsetRandomSampler(valid_idx)\n",
    "\n",
    "\n",
    "    global train_loader \n",
    "    train_loader = torch.utils.data.DataLoader(\n",
    "        train_dataset, batch_size=batch_size,\n",
    "        num_workers=num_workers, \n",
    "        #sampler = train_sampler\n",
    "    )\n",
    "    global valid_loader \n",
    "    valid_loader = torch.utils.data.DataLoader(\n",
    "        val_dataset, batch_size=batch_size,\n",
    "        num_workers=num_workers, \n",
    "        #sampler = valid_sampler\n",
    "    )\n",
    "\n",
    "    return train_loader, valid_loader\n",
    "\n",
    "print(get_train_valid_loader(batch_size = 64, augment = True, random_seed = 1))\n"
   ]
  },
  {
   "cell_type": "code",
   "execution_count": 11,
   "metadata": {},
   "outputs": [],
   "source": [
    "# model function \n",
    "class LeNet5(nn.Module):\n",
    "\n",
    "    def __init__(self, n_classes):\n",
    "        super(LeNet5, self).__init__()\n",
    "        \n",
    "        self.feature_extractor = nn.Sequential(            \n",
    "            nn.Conv2d(in_channels=3, out_channels=6, kernel_size=5, stride=1),\n",
    "            nn.Tanh(),\n",
    "            nn.AvgPool2d(kernel_size=2),\n",
    "            nn.Conv2d(in_channels=6, out_channels=16, kernel_size=5, stride=1),\n",
    "            nn.Tanh(),\n",
    "            nn.AvgPool2d(kernel_size=2),\n",
    "            nn.Conv2d(in_channels=16, out_channels=120, kernel_size=5, stride=1),\n",
    "            nn.Tanh()\n",
    "        )\n",
    "\n",
    "        self.classifier = nn.Sequential(\n",
    "            nn.Linear(in_features=120, out_features=84),\n",
    "            nn.Tanh(),\n",
    "            nn.Linear(in_features=84, out_features=n_classes),\n",
    "        )\n",
    "\n",
    "\n",
    "    def forward(self, x):\n",
    "        x = self.feature_extractor(x)\n",
    "        x = torch.flatten(x, 1)\n",
    "        logits = self.classifier(x)\n",
    "        probs = F.softmax(logits, dim=1)\n",
    "        return logits, probs"
   ]
  },
  {
   "cell_type": "code",
   "execution_count": 12,
   "metadata": {},
   "outputs": [],
   "source": [
    "\n",
    "torch.manual_seed(random_seed)\n",
    "\n",
    "model = LeNet5(classes).to(device)\n",
    "optimizer = torch.optim.Adam(model.parameters(), lr=learning_rate)\n",
    "criterion = nn.CrossEntropyLoss()"
   ]
  },
  {
   "cell_type": "code",
   "execution_count": 13,
   "metadata": {},
   "outputs": [
    {
     "name": "stdout",
     "output_type": "stream",
     "text": [
      "08:52:17 --- Epoch: 0\tTrain loss: 3.3841\tValid loss: 2.9464\tTrain accuracy: 24.74\tValid accuracy: 25.11\n",
      "08:52:24 --- Epoch: 1\tTrain loss: 2.5646\tValid loss: 2.1832\tTrain accuracy: 40.02\tValid accuracy: 40.26\n",
      "08:52:31 --- Epoch: 2\tTrain loss: 1.9552\tValid loss: 1.7111\tTrain accuracy: 51.78\tValid accuracy: 52.08\n",
      "08:52:39 --- Epoch: 3\tTrain loss: 1.5463\tValid loss: 1.3481\tTrain accuracy: 63.22\tValid accuracy: 63.68\n",
      "08:52:46 --- Epoch: 4\tTrain loss: 1.2303\tValid loss: 1.0832\tTrain accuracy: 72.00\tValid accuracy: 72.56\n",
      "08:52:53 --- Epoch: 5\tTrain loss: 0.9998\tValid loss: 0.8916\tTrain accuracy: 78.51\tValid accuracy: 78.81\n",
      "08:53:01 --- Epoch: 6\tTrain loss: 0.8287\tValid loss: 0.7470\tTrain accuracy: 82.64\tValid accuracy: 82.92\n",
      "08:53:08 --- Epoch: 7\tTrain loss: 0.6974\tValid loss: 0.6353\tTrain accuracy: 85.78\tValid accuracy: 85.92\n",
      "08:53:15 --- Epoch: 8\tTrain loss: 0.5952\tValid loss: 0.5481\tTrain accuracy: 88.12\tValid accuracy: 88.10\n",
      "08:53:22 --- Epoch: 9\tTrain loss: 0.5147\tValid loss: 0.4792\tTrain accuracy: 89.71\tValid accuracy: 89.66\n",
      "08:53:30 --- Epoch: 10\tTrain loss: 0.4503\tValid loss: 0.4239\tTrain accuracy: 90.95\tValid accuracy: 90.56\n",
      "08:53:37 --- Epoch: 11\tTrain loss: 0.3978\tValid loss: 0.3787\tTrain accuracy: 92.07\tValid accuracy: 91.70\n",
      "08:53:44 --- Epoch: 12\tTrain loss: 0.3544\tValid loss: 0.3411\tTrain accuracy: 92.98\tValid accuracy: 92.53\n",
      "08:53:52 --- Epoch: 13\tTrain loss: 0.3178\tValid loss: 0.3096\tTrain accuracy: 93.69\tValid accuracy: 93.22\n",
      "08:53:59 --- Epoch: 14\tTrain loss: 0.2866\tValid loss: 0.2827\tTrain accuracy: 94.42\tValid accuracy: 93.98\n",
      "08:54:06 --- Epoch: 15\tTrain loss: 0.2596\tValid loss: 0.2595\tTrain accuracy: 95.02\tValid accuracy: 94.46\n",
      "08:54:13 --- Epoch: 16\tTrain loss: 0.2361\tValid loss: 0.2394\tTrain accuracy: 95.52\tValid accuracy: 94.73\n",
      "08:54:21 --- Epoch: 17\tTrain loss: 0.2153\tValid loss: 0.2217\tTrain accuracy: 96.05\tValid accuracy: 94.95\n",
      "08:54:28 --- Epoch: 18\tTrain loss: 0.1970\tValid loss: 0.2060\tTrain accuracy: 96.43\tValid accuracy: 95.38\n",
      "08:54:35 --- Epoch: 19\tTrain loss: 0.1806\tValid loss: 0.1921\tTrain accuracy: 96.74\tValid accuracy: 95.74\n",
      "08:54:43 --- Epoch: 20\tTrain loss: 0.1659\tValid loss: 0.1797\tTrain accuracy: 97.05\tValid accuracy: 95.98\n",
      "08:54:50 --- Epoch: 21\tTrain loss: 0.1527\tValid loss: 0.1685\tTrain accuracy: 97.38\tValid accuracy: 96.30\n",
      "08:54:57 --- Epoch: 22\tTrain loss: 0.1407\tValid loss: 0.1585\tTrain accuracy: 97.67\tValid accuracy: 96.55\n",
      "08:55:04 --- Epoch: 23\tTrain loss: 0.1300\tValid loss: 0.1495\tTrain accuracy: 97.91\tValid accuracy: 96.77\n",
      "08:55:12 --- Epoch: 24\tTrain loss: 0.1202\tValid loss: 0.1414\tTrain accuracy: 98.09\tValid accuracy: 96.88\n",
      "08:55:19 --- Epoch: 25\tTrain loss: 0.1113\tValid loss: 0.1340\tTrain accuracy: 98.28\tValid accuracy: 97.00\n",
      "08:55:26 --- Epoch: 26\tTrain loss: 0.1032\tValid loss: 0.1274\tTrain accuracy: 98.46\tValid accuracy: 97.13\n",
      "08:55:33 --- Epoch: 27\tTrain loss: 0.0958\tValid loss: 0.1214\tTrain accuracy: 98.58\tValid accuracy: 97.26\n",
      "08:55:41 --- Epoch: 28\tTrain loss: 0.0890\tValid loss: 0.1159\tTrain accuracy: 98.67\tValid accuracy: 97.39\n",
      "08:55:48 --- Epoch: 29\tTrain loss: 0.0828\tValid loss: 0.1109\tTrain accuracy: 98.79\tValid accuracy: 97.39\n",
      "08:55:55 --- Epoch: 30\tTrain loss: 0.0771\tValid loss: 0.1064\tTrain accuracy: 98.89\tValid accuracy: 97.50\n",
      "08:56:03 --- Epoch: 31\tTrain loss: 0.0718\tValid loss: 0.1022\tTrain accuracy: 99.03\tValid accuracy: 97.62\n",
      "08:56:10 --- Epoch: 32\tTrain loss: 0.0669\tValid loss: 0.0984\tTrain accuracy: 99.12\tValid accuracy: 97.71\n",
      "08:56:17 --- Epoch: 33\tTrain loss: 0.0624\tValid loss: 0.0949\tTrain accuracy: 99.19\tValid accuracy: 97.75\n",
      "08:56:25 --- Epoch: 34\tTrain loss: 0.0582\tValid loss: 0.0917\tTrain accuracy: 99.26\tValid accuracy: 97.80\n",
      "08:56:32 --- Epoch: 35\tTrain loss: 0.0542\tValid loss: 0.0887\tTrain accuracy: 99.34\tValid accuracy: 97.82\n",
      "08:56:39 --- Epoch: 36\tTrain loss: 0.0506\tValid loss: 0.0859\tTrain accuracy: 99.43\tValid accuracy: 97.88\n",
      "08:56:47 --- Epoch: 37\tTrain loss: 0.0472\tValid loss: 0.0833\tTrain accuracy: 99.48\tValid accuracy: 97.94\n",
      "08:56:54 --- Epoch: 38\tTrain loss: 0.0440\tValid loss: 0.0809\tTrain accuracy: 99.53\tValid accuracy: 97.95\n",
      "08:57:02 --- Epoch: 39\tTrain loss: 0.0410\tValid loss: 0.0787\tTrain accuracy: 99.57\tValid accuracy: 97.99\n"
     ]
    },
    {
     "data": {
      "image/png": "[encoded data removed]",
      "text/plain": [
       "<Figure size 800x450 with 1 Axes>"
      ]
     },
     "metadata": {},
     "output_type": "display_data"
    }
   ],
   "source": [
    "model, optimizer, _ = training_loop(model, criterion, optimizer, train_loader, valid_loader, epochs, device)"
   ]
  },
  {
   "cell_type": "code",
   "execution_count": null,
   "metadata": {},
   "outputs": [],
   "source": []
  }
 ],
 "metadata": {
  "kernelspec": {
   "display_name": "Python 3.8.10 ('notebook_env': venv)",
   "language": "python",
   "name": "python3"
  },
  "language_info": {
   "codemirror_mode": {
    "name": "ipython",
    "version": 3
   },
   "file_extension": ".py",
   "mimetype": "text/x-python",
   "name": "python",
   "nbconvert_exporter": "python",
   "pygments_lexer": "ipython3",
   "version": "3.8.10"
  },
  "orig_nbformat": 4,
  "vscode": {
   "interpreter": {
    "hash": "1e104bd40b3717451915a48eb0e1578acd631c83a179c8bd7a28647fdfca76f1"
   }
  }
 },
 "nbformat": 4,
 "nbformat_minor": 2
}
